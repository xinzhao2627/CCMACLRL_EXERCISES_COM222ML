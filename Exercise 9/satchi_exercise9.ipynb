{
 "cells": [
  {
   "cell_type": "markdown",
   "metadata": {},
   "source": [
    "# Imports\n",
    "\n",
    "Declare all libraries"
   ]
  },
  {
   "cell_type": "code",
   "execution_count": 39,
   "metadata": {},
   "outputs": [],
   "source": [
    "import os\n",
    "import pandas as pd\n",
    "import seaborn as sns\n",
    "import numpy as np\n",
    "\n",
    "from matplotlib import pyplot as plt\n",
    "from sklearn.neighbors import KNeighborsClassifier\n",
    "from sklearn.linear_model import LogisticRegression\n",
    "from sklearn.svm import SVC\n",
    "from sklearn.naive_bayes import GaussianNB\n",
    "from sklearn.tree import DecisionTreeClassifier\n",
    "from sklearn.ensemble import RandomForestClassifier\n",
    "from sklearn.feature_selection import RFE\n",
    "from sklearn.preprocessing import StandardScaler\n",
    "from sklearn.metrics import classification_report, confusion_matrix, ConfusionMatrixDisplay\n",
    "from sklearn.model_selection import train_test_split, cross_val_score"
   ]
  },
  {
   "cell_type": "markdown",
   "metadata": {},
   "source": [
    "# Data\n",
    "\n",
    "Import data"
   ]
  },
  {
   "cell_type": "code",
   "execution_count": 2,
   "metadata": {},
   "outputs": [],
   "source": [
    "dir = os.getcwd()\n",
    "dataSetPaths = {\n",
    "\t\"test\": os.path.join(dir, \"resources/test.csv\"),\n",
    "\t\"train\": os.path.join(dir, \"resources/train.csv\")\n",
    "}\n",
    "\n",
    "dataSets = {}"
   ]
  },
  {
   "cell_type": "markdown",
   "metadata": {},
   "source": [
    "# Defining Reusable Functions\n",
    "\n",
    "Define functions that could act as reusable codes."
   ]
  },
  {
   "cell_type": "code",
   "execution_count": 27,
   "metadata": {},
   "outputs": [],
   "source": [
    "def createSubmissionFile(yPred, filename):\n",
    "\tsf = pd.read_csv(os.path.join(dir, 'resources/sample_submission.csv'))\n",
    "\tid = sf.pop('id')\n",
    "\n",
    "\tsubmission = pd.DataFrame({\n",
    "\t\t'id': id,\n",
    "\t\t'loan_status': yPred\n",
    "\t})\n",
    "\n",
    "\tsubmission.to_csv(\n",
    "\t\tos.path.join(dir, \"dist\", filename + \".csv\"),\n",
    "\t\tindex = False\n",
    "\t)\n",
    "\n",
    "def splitData(dataSet, scaleData = False, testSize = 0.2):\n",
    "\tx = dataSet.drop('loan_status', axis = 1)\n",
    "\ty = dataSet['loan_status']\n",
    "\n",
    "\ttrain = {}\n",
    "\ttest = {} \n",
    "\n",
    "\ttrain['x'], test['x'], train['y'], test['y'] = train_test_split(x, y, test_size = testSize)\n",
    "\n",
    "\tif scaleData:\n",
    "\t\tscaler = StandardScaler()\n",
    "\t\ttrain['x'] = scaler.fit_transform(train['x'])\n",
    "\t\ttest['x'] = scaler.transform(test['x'])\n",
    "\n",
    "\treturn train, test\n",
    "\n",
    "def selectFeatures(xTrain, yTrain, columns, criterion = \"gini\", printReport = True):\n",
    "\tfeatureSelector = trainRandomForest(xTrain, yTrain, criterion)\n",
    "\n",
    "\tyPred = featureSelector.predict(xTrain)\n",
    "\n",
    "\tif printReport:\n",
    "\t\tprint(classification_report(yTrain, yPred))\n",
    "\n",
    "\treturn pd.DataFrame(\n",
    "\t\t{'rfc': featureSelector.feature_importances_},\n",
    "\t\tindex = columns\n",
    "\t)\n",
    "\n",
    "def trainDecisionTree(xTrain, yTrain, criterion = \"gini\"):\n",
    "\tclf = DecisionTreeClassifier(criterion = criterion)\n",
    "\tclf.fit(xTrain, yTrain)\n",
    "\n",
    "\tprint(f\"DT Score: {cross_val_score(clf, xTrain, yTrain, cv = 5)}\")\n",
    "\n",
    "\treturn clf\n",
    "\n",
    "def trainRandomForest(xTrain, yTrain, criterion = \"gini\"):\n",
    "\tclf = RandomForestClassifier(criterion = criterion)\n",
    "\tclf.fit(xTrain, yTrain)\n",
    "\n",
    "\tprint(f\"RFE Score: {cross_val_score(clf, xTrain, yTrain, cv = 5)}\")\n",
    "\n",
    "\treturn clf"
   ]
  },
  {
   "cell_type": "code",
   "execution_count": 4,
   "metadata": {},
   "outputs": [
    {
     "name": "stdout",
     "output_type": "stream",
     "text": [
      "\n",
      "\"test\" data set shape: (39098, 12)\n",
      "Info:\n",
      "<class 'pandas.core.frame.DataFrame'>\n",
      "RangeIndex: 39098 entries, 0 to 39097\n",
      "Data columns (total 12 columns):\n",
      " #   Column                      Non-Null Count  Dtype  \n",
      "---  ------                      --------------  -----  \n",
      " 0   id                          39098 non-null  int64  \n",
      " 1   person_age                  39098 non-null  int64  \n",
      " 2   person_income               39098 non-null  int64  \n",
      " 3   person_home_ownership       39098 non-null  object \n",
      " 4   person_emp_length           39098 non-null  float64\n",
      " 5   loan_intent                 39098 non-null  object \n",
      " 6   loan_grade                  39098 non-null  object \n",
      " 7   loan_amnt                   39098 non-null  int64  \n",
      " 8   loan_int_rate               39098 non-null  float64\n",
      " 9   loan_percent_income         39098 non-null  float64\n",
      " 10  cb_person_default_on_file   39098 non-null  object \n",
      " 11  cb_person_cred_hist_length  39098 non-null  int64  \n",
      "dtypes: float64(3), int64(5), object(4)\n",
      "memory usage: 3.6+ MB\n",
      "\n",
      "\"train\" data set shape: (58645, 13)\n",
      "Info:\n",
      "<class 'pandas.core.frame.DataFrame'>\n",
      "RangeIndex: 58645 entries, 0 to 58644\n",
      "Data columns (total 13 columns):\n",
      " #   Column                      Non-Null Count  Dtype  \n",
      "---  ------                      --------------  -----  \n",
      " 0   id                          58645 non-null  int64  \n",
      " 1   person_age                  58645 non-null  int64  \n",
      " 2   person_income               58645 non-null  int64  \n",
      " 3   person_home_ownership       58645 non-null  object \n",
      " 4   person_emp_length           58645 non-null  float64\n",
      " 5   loan_intent                 58645 non-null  object \n",
      " 6   loan_grade                  58645 non-null  object \n",
      " 7   loan_amnt                   58645 non-null  int64  \n",
      " 8   loan_int_rate               58645 non-null  float64\n",
      " 9   loan_percent_income         58645 non-null  float64\n",
      " 10  cb_person_default_on_file   58645 non-null  object \n",
      " 11  cb_person_cred_hist_length  58645 non-null  int64  \n",
      " 12  loan_status                 58645 non-null  int64  \n",
      "dtypes: float64(3), int64(6), object(4)\n",
      "memory usage: 5.8+ MB\n"
     ]
    }
   ],
   "source": [
    "for key in dataSetPaths:\n",
    "\tprint()\n",
    "\tdataSets[key] = pd.read_csv(dataSetPaths[key])\n",
    "\tprint(f\"\\\"{key}\\\" data set shape: {dataSets[key].shape}\")\n",
    "\tprint(f\"Info:\")\n",
    "\tdataSets[key].info()"
   ]
  },
  {
   "cell_type": "markdown",
   "metadata": {},
   "source": [
    "# Pre-Processing\n",
    "\n",
    "Feature engineering and processing of data."
   ]
  },
  {
   "cell_type": "code",
   "execution_count": 5,
   "metadata": {},
   "outputs": [
    {
     "data": {
      "text/html": [
       "<div>\n",
       "<style scoped>\n",
       "    .dataframe tbody tr th:only-of-type {\n",
       "        vertical-align: middle;\n",
       "    }\n",
       "\n",
       "    .dataframe tbody tr th {\n",
       "        vertical-align: top;\n",
       "    }\n",
       "\n",
       "    .dataframe thead th {\n",
       "        text-align: right;\n",
       "    }\n",
       "</style>\n",
       "<table border=\"1\" class=\"dataframe\">\n",
       "  <thead>\n",
       "    <tr style=\"text-align: right;\">\n",
       "      <th></th>\n",
       "      <th>id</th>\n",
       "      <th>person_age</th>\n",
       "      <th>person_income</th>\n",
       "      <th>person_home_ownership</th>\n",
       "      <th>person_emp_length</th>\n",
       "      <th>loan_intent</th>\n",
       "      <th>loan_grade</th>\n",
       "      <th>loan_amnt</th>\n",
       "      <th>loan_int_rate</th>\n",
       "      <th>loan_percent_income</th>\n",
       "      <th>cb_person_default_on_file</th>\n",
       "      <th>cb_person_cred_hist_length</th>\n",
       "      <th>loan_status</th>\n",
       "    </tr>\n",
       "  </thead>\n",
       "  <tbody>\n",
       "    <tr>\n",
       "      <th>0</th>\n",
       "      <td>0</td>\n",
       "      <td>37</td>\n",
       "      <td>35000</td>\n",
       "      <td>RENT</td>\n",
       "      <td>0.0</td>\n",
       "      <td>EDUCATION</td>\n",
       "      <td>B</td>\n",
       "      <td>6000</td>\n",
       "      <td>11.49</td>\n",
       "      <td>0.17</td>\n",
       "      <td>N</td>\n",
       "      <td>14</td>\n",
       "      <td>0</td>\n",
       "    </tr>\n",
       "    <tr>\n",
       "      <th>1</th>\n",
       "      <td>1</td>\n",
       "      <td>22</td>\n",
       "      <td>56000</td>\n",
       "      <td>OWN</td>\n",
       "      <td>6.0</td>\n",
       "      <td>MEDICAL</td>\n",
       "      <td>C</td>\n",
       "      <td>4000</td>\n",
       "      <td>13.35</td>\n",
       "      <td>0.07</td>\n",
       "      <td>N</td>\n",
       "      <td>2</td>\n",
       "      <td>0</td>\n",
       "    </tr>\n",
       "    <tr>\n",
       "      <th>2</th>\n",
       "      <td>2</td>\n",
       "      <td>29</td>\n",
       "      <td>28800</td>\n",
       "      <td>OWN</td>\n",
       "      <td>8.0</td>\n",
       "      <td>PERSONAL</td>\n",
       "      <td>A</td>\n",
       "      <td>6000</td>\n",
       "      <td>8.90</td>\n",
       "      <td>0.21</td>\n",
       "      <td>N</td>\n",
       "      <td>10</td>\n",
       "      <td>0</td>\n",
       "    </tr>\n",
       "    <tr>\n",
       "      <th>3</th>\n",
       "      <td>3</td>\n",
       "      <td>30</td>\n",
       "      <td>70000</td>\n",
       "      <td>RENT</td>\n",
       "      <td>14.0</td>\n",
       "      <td>VENTURE</td>\n",
       "      <td>B</td>\n",
       "      <td>12000</td>\n",
       "      <td>11.11</td>\n",
       "      <td>0.17</td>\n",
       "      <td>N</td>\n",
       "      <td>5</td>\n",
       "      <td>0</td>\n",
       "    </tr>\n",
       "    <tr>\n",
       "      <th>4</th>\n",
       "      <td>4</td>\n",
       "      <td>22</td>\n",
       "      <td>60000</td>\n",
       "      <td>RENT</td>\n",
       "      <td>2.0</td>\n",
       "      <td>MEDICAL</td>\n",
       "      <td>A</td>\n",
       "      <td>6000</td>\n",
       "      <td>6.92</td>\n",
       "      <td>0.10</td>\n",
       "      <td>N</td>\n",
       "      <td>3</td>\n",
       "      <td>0</td>\n",
       "    </tr>\n",
       "  </tbody>\n",
       "</table>\n",
       "</div>"
      ],
      "text/plain": [
       "   id  person_age  person_income person_home_ownership  person_emp_length  \\\n",
       "0   0          37          35000                  RENT                0.0   \n",
       "1   1          22          56000                   OWN                6.0   \n",
       "2   2          29          28800                   OWN                8.0   \n",
       "3   3          30          70000                  RENT               14.0   \n",
       "4   4          22          60000                  RENT                2.0   \n",
       "\n",
       "  loan_intent loan_grade  loan_amnt  loan_int_rate  loan_percent_income  \\\n",
       "0   EDUCATION          B       6000          11.49                 0.17   \n",
       "1     MEDICAL          C       4000          13.35                 0.07   \n",
       "2    PERSONAL          A       6000           8.90                 0.21   \n",
       "3     VENTURE          B      12000          11.11                 0.17   \n",
       "4     MEDICAL          A       6000           6.92                 0.10   \n",
       "\n",
       "  cb_person_default_on_file  cb_person_cred_hist_length  loan_status  \n",
       "0                         N                          14            0  \n",
       "1                         N                           2            0  \n",
       "2                         N                          10            0  \n",
       "3                         N                           5            0  \n",
       "4                         N                           3            0  "
      ]
     },
     "execution_count": 5,
     "metadata": {},
     "output_type": "execute_result"
    }
   ],
   "source": [
    "dataSets[\"train\"].head()"
   ]
  },
  {
   "cell_type": "code",
   "execution_count": 6,
   "metadata": {},
   "outputs": [
    {
     "data": {
      "text/plain": [
       "loan_status\n",
       "0    50295\n",
       "1     8350\n",
       "Name: count, dtype: int64"
      ]
     },
     "execution_count": 6,
     "metadata": {},
     "output_type": "execute_result"
    }
   ],
   "source": [
    "dataSets[\"train\"][\"loan_status\"].value_counts()"
   ]
  },
  {
   "cell_type": "code",
   "execution_count": 7,
   "metadata": {},
   "outputs": [
    {
     "name": "stdout",
     "output_type": "stream",
     "text": [
      "\n",
      "No. of null in \"test\":\n",
      "id                            0\n",
      "person_age                    0\n",
      "person_income                 0\n",
      "person_home_ownership         0\n",
      "person_emp_length             0\n",
      "loan_intent                   0\n",
      "loan_grade                    0\n",
      "loan_amnt                     0\n",
      "loan_int_rate                 0\n",
      "loan_percent_income           0\n",
      "cb_person_default_on_file     0\n",
      "cb_person_cred_hist_length    0\n",
      "dtype: int64\n",
      "\n",
      "No. of null in \"train\":\n",
      "id                            0\n",
      "person_age                    0\n",
      "person_income                 0\n",
      "person_home_ownership         0\n",
      "person_emp_length             0\n",
      "loan_intent                   0\n",
      "loan_grade                    0\n",
      "loan_amnt                     0\n",
      "loan_int_rate                 0\n",
      "loan_percent_income           0\n",
      "cb_person_default_on_file     0\n",
      "cb_person_cred_hist_length    0\n",
      "loan_status                   0\n",
      "dtype: int64\n"
     ]
    }
   ],
   "source": [
    "for key in dataSets:\n",
    "\tprint(f\"\\nNo. of null in \\\"{key}\\\":\\n{dataSets[key].isnull().sum()}\")"
   ]
  },
  {
   "cell_type": "markdown",
   "metadata": {},
   "source": [
    "## Morphing Features\n",
    "\n",
    "Morph some features so that they are quantifiable"
   ]
  },
  {
   "cell_type": "code",
   "execution_count": 8,
   "metadata": {},
   "outputs": [
    {
     "data": {
      "text/plain": [
       "array(['B', 'C', 'A', 'D', 'E', 'F', 'G'], dtype=object)"
      ]
     },
     "execution_count": 8,
     "metadata": {},
     "output_type": "execute_result"
    }
   ],
   "source": [
    "dataSets[\"train\"][\"loan_grade\"].unique()"
   ]
  },
  {
   "cell_type": "code",
   "execution_count": 9,
   "metadata": {},
   "outputs": [
    {
     "name": "stdout",
     "output_type": "stream",
     "text": [
      "Cols (test): Index(['person_age', 'person_income', 'person_home_ownership',\n",
      "       'person_emp_length', 'loan_intent', 'loan_grade', 'loan_amnt',\n",
      "       'loan_int_rate', 'loan_percent_income', 'cb_person_default_on_file',\n",
      "       'cb_person_cred_hist_length'],\n",
      "      dtype='object')\n",
      "Cols (train): Index(['person_age', 'person_income', 'person_home_ownership',\n",
      "       'person_emp_length', 'loan_intent', 'loan_grade', 'loan_amnt',\n",
      "       'loan_int_rate', 'loan_percent_income', 'cb_person_default_on_file',\n",
      "       'cb_person_cred_hist_length', 'loan_status'],\n",
      "      dtype='object')\n"
     ]
    }
   ],
   "source": [
    "\n",
    "for key in dataSets:\n",
    "    # Person Home Ownership\n",
    "    ## - MORTGAGE => 0\n",
    "    ## - RENT => 1\n",
    "    ## - OWN => 2\n",
    "    ## - OTHER => 3\n",
    "\tdataSets[key][\"person_home_ownership\"] = dataSets[key][\"person_home_ownership\"].map({\n",
    "\t\t\"MORTGAGE\": 0,\n",
    "\t\t\"RENT\": 1,\n",
    "\t\t\"OWN\": 2,\n",
    "\t\t\"OTHER\": 3\n",
    "\t})\n",
    "\n",
    "\t# Loan Intent\n",
    "\t## - EDUCATION => 0\n",
    "\t## - PERSONAL => 1\n",
    "\t## - VENTURE => 2\n",
    "\t## - DEBTCONSOLIDATION => 3\n",
    "\t## - HOMEIMPROVEMENT => 4\n",
    "\t## - MEDICAL => 5\n",
    "\tdataSets[key][\"loan_intent\"] = dataSets[key][\"loan_intent\"].map({\n",
    "\t\t\"EDUCATION\": 0,\n",
    "\t\t\"PERSONAL\": 1,\n",
    "\t\t\"VENTURE\": 2,\n",
    "\t\t\"DEBTCONSOLIDATION\": 3,\n",
    "\t\t\"HOMEIMPROVEMENT\": 4,\n",
    "\t\t\"MEDICAL\": 5\n",
    "\t})\n",
    "\n",
    "\t# Loan Grade\n",
    "\t## - A => 0\n",
    "\t## - B => 1\n",
    "\t## - C => 2\n",
    "\t## - D => 3\n",
    "\t## - E => 4\n",
    "\t## - F => 5\n",
    "\t## - G => 6\n",
    "\tdataSets[key][\"loan_grade\"] = dataSets[key][\"loan_grade\"].map({\n",
    "\t\t\"A\": 0,\n",
    "\t\t\"B\": 1,\n",
    "\t\t\"C\": 2,\n",
    "\t\t\"D\": 3,\n",
    "\t\t\"E\": 4,\n",
    "\t\t\"F\": 5,\n",
    "\t\t\"G\": 6\n",
    "\t})\n",
    "\n",
    "\t# CB Person Default on file\n",
    "\tdataSets[key][\"cb_person_default_on_file\"] = dataSets[key][\"cb_person_default_on_file\"].map({\n",
    "\t\t\"Y\": 1,\n",
    "\t\t\"N\": 0\n",
    "\t})\n",
    "\n",
    "\t# Remove ID\n",
    "\tdataSets[key].drop(['id'], axis = 1, inplace = True)\n",
    "\tprint(f\"Cols ({key}): {dataSets[key].columns}\")"
   ]
  },
  {
   "cell_type": "markdown",
   "metadata": {},
   "source": [
    "# Model Training\n",
    "\n",
    "Begin the training of the models"
   ]
  },
  {
   "cell_type": "code",
   "execution_count": 10,
   "metadata": {},
   "outputs": [
    {
     "name": "stdout",
     "output_type": "stream",
     "text": [
      "12\n"
     ]
    }
   ],
   "source": [
    "print(len(dataSets[\"train\"].columns))"
   ]
  },
  {
   "cell_type": "markdown",
   "metadata": {},
   "source": [
    "## Decision Tree Classifier Model"
   ]
  },
  {
   "cell_type": "code",
   "execution_count": 16,
   "metadata": {},
   "outputs": [],
   "source": [
    "ogCols = dataSets[\"train\"].columns\n",
    "ogIndex = dataSets[\"train\"].drop(\"loan_status\", axis = 1).columns\n",
    "dtTrainOg, dtTestOg = splitData(dataSets[\"train\"], scaleData = True)\n",
    "dtTrain = dtTrainOg.copy()\n",
    "dtTest = dtTestOg.copy()"
   ]
  },
  {
   "cell_type": "markdown",
   "metadata": {},
   "source": [
    "## Experimentation"
   ]
  },
  {
   "cell_type": "code",
   "execution_count": 17,
   "metadata": {},
   "outputs": [],
   "source": [
    "# # Feature Selection\n",
    "# featureFrame = selectFeatures(dtTrain['x'], dtTrain['y'], ogIndex, printReport = False)\n",
    "# featureFrame.sort_values(by = 'rfc', ascending = True, inplace = True)\n",
    "# index = np.arange(len(featureFrame))\n",
    "# fig, ax = plt.subplots(figsize = (10, 10))\n",
    "# selectedFeatures = ax.barh(index, featureFrame['rfc'], 0.5, color = 'blue', label = 'Feature Importance')\n",
    "# ax.set(yticks = index, yticklabels = featureFrame.index)\n",
    "\n",
    "# ax.legend()\n",
    "# plt.show()\n",
    "\n",
    "# # WITHOUT REMOVED FEATURES\n",
    "# decisionTreeModel = trainDecisionTree(dtTrain['x'], dtTrain['y'])\n",
    "# yPred = decisionTreeModel.predict(dtTest['x'])\n",
    "\n",
    "# print(f\"Decision Tree Model Accuracy (Before Feature Selection): {decisionTreeModel.score(dtTest['x'], dtTest['y'])}\")\n",
    "\n",
    "# # WITH REMOVED FEATURES\n",
    "# toRemove = featureFrame.index[:int(len(featureFrame) / 2)]\n",
    "# dtTrain, dtTest = splitData(dataSets[\"train\"].drop(toRemove, axis = 1), scaleData = True)\n",
    "\n",
    "# decisionTreeModel = trainDecisionTree(dtTrain['x'], dtTrain['y'])\n",
    "# yPred = decisionTreeModel.predict(dtTest['x'])\n",
    "\n",
    "# print(f\"Decision Tree Model Accuracy (After Feature Selection): {decisionTreeModel.score(dtTest['x'], dtTest['y'])}\")"
   ]
  },
  {
   "cell_type": "markdown",
   "metadata": {},
   "source": [
    "## Actual\n",
    "\n",
    "This is the actual DT codes. Disregard above. It's for experimentation."
   ]
  },
  {
   "cell_type": "code",
   "execution_count": 41,
   "metadata": {},
   "outputs": [
    {
     "name": "stdout",
     "output_type": "stream",
     "text": [
      "DT Score: [0.9105925  0.91164873 0.91271448 0.90855803 0.90994351]\n",
      "Decision Tree Model Accuracy: 0.9120982180919089\n"
     ]
    },
    {
     "data": {
      "image/png": "[encoded data removed]",
      "text/plain": [
       "<Figure size 640x480 with 2 Axes>"
      ]
     },
     "metadata": {},
     "output_type": "display_data"
    }
   ],
   "source": [
    "dfTrain, dfTest = splitData(dataSets[\"train\"].copy(), True)\n",
    "decisionTreeModel = trainDecisionTree(dtTrain['x'], dtTrain['y'])\n",
    "yDTPred = decisionTreeModel.predict(dtTest['x'])\n",
    "\n",
    "print(f\"Decision Tree Model Accuracy: {decisionTreeModel.score(dtTest['x'], dtTest['y'])}\")\n",
    "cm = confusion_matrix(yDTPred, dfTest['y'])\n",
    "cmDisplay = ConfusionMatrixDisplay(\n",
    "    confusion_matrix = cm,\n",
    "    display_labels = [\"False\", \"True\"]\n",
    ")\n",
    "\n",
    "cmDisplay.plot()\n",
    "plt.show()"
   ]
  },
  {
   "cell_type": "markdown",
   "metadata": {},
   "source": [
    "## Random Forest Classifier Model"
   ]
  },
  {
   "cell_type": "code",
   "execution_count": 42,
   "metadata": {},
   "outputs": [
    {
     "name": "stdout",
     "output_type": "stream",
     "text": [
      "RFE Score: [0.95311168 0.95065544 0.94873708 0.94585953 0.95140147]\n",
      "Decision Tree Model Accuracy: 0.9120982180919089\n"
     ]
    },
    {
     "data": {
      "image/png": "[encoded data removed]",
      "text/plain": [
       "<Figure size 640x480 with 2 Axes>"
      ]
     },
     "metadata": {},
     "output_type": "display_data"
    }
   ],
   "source": [
    "dfTrain, dfTest = splitData(dataSets[\"train\"].copy(), True)\n",
    "rfeModel = trainRandomForest(dtTrain['x'], dtTrain['y'])\n",
    "yRFEPred = rfeModel.predict(dtTest['x'])\n",
    "\n",
    "print(f\"Random Forest Model Accuracy: {rfeModel.score(dtTest['x'], dtTest['y'])}\")\n",
    "cm = confusion_matrix(yRFEPred, dfTest['y'])\n",
    "cmDisplay = ConfusionMatrixDisplay(\n",
    "    confusion_matrix = cm,\n",
    "    display_labels = [\"False\", \"True\"]\n",
    ")\n",
    "\n",
    "cmDisplay.plot()\n",
    "plt.show()"
   ]
  },
  {
   "cell_type": "markdown",
   "metadata": {},
   "source": [
    "# Submission File"
   ]
  },
  {
   "cell_type": "code",
   "execution_count": 43,
   "metadata": {},
   "outputs": [
    {
     "name": "stderr",
     "output_type": "stream",
     "text": [
      "c:\\Users\\Virus5600\\miniconda3\\envs\\com222\\Lib\\site-packages\\sklearn\\base.py:486: UserWarning: X has feature names, but DecisionTreeClassifier was fitted without feature names\n",
      "  warnings.warn(\n",
      "c:\\Users\\Virus5600\\miniconda3\\envs\\com222\\Lib\\site-packages\\sklearn\\base.py:486: UserWarning: X has feature names, but RandomForestClassifier was fitted without feature names\n",
      "  warnings.warn(\n"
     ]
    }
   ],
   "source": [
    "yDTPred = decisionTreeModel.predict(dataSets[\"test\"])\n",
    "yRFEPred = rfeModel.predict(dataSets[\"test\"])"
   ]
  },
  {
   "cell_type": "code",
   "execution_count": 44,
   "metadata": {},
   "outputs": [],
   "source": [
    "createSubmissionFile(yDTPred, \"DecisionTree\")\n",
    "createSubmissionFile(yRFEPred, \"RFE\")"
   ]
  }
 ],
 "metadata": {
  "kernelspec": {
   "display_name": "com222",
   "language": "python",
   "name": "python3"
  },
  "language_info": {
   "codemirror_mode": {
    "name": "ipython",
    "version": 3
   },
   "file_extension": ".py",
   "mimetype": "text/x-python",
   "name": "python",
   "nbconvert_exporter": "python",
   "pygments_lexer": "ipython3",
   "version": "3.12.4"
  }
 },
 "nbformat": 4,
 "nbformat_minor": 2
}
